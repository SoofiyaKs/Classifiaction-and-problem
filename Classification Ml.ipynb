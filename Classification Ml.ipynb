{
 "cells": [
  {
   "cell_type": "code",
   "execution_count": null,
   "id": "06eb6cad-98fb-42a4-9857-a337fbc39f7a",
   "metadata": {},
   "outputs": [],
   "source": [
    "1. Loading and Preprocessing (2 marks)\n",
    "\n",
    "\n",
    "* Load the breast cancer dataset from sklearn.\n",
    "* Preprocess the data to handle any missing values and perform necessary feature scaling.\n",
    "* Explain the preprocessing steps you performed and justify why they are necessary for this dataset."
   ]
  },
  {
   "cell_type": "code",
   "execution_count": null,
   "id": "63d7ee7f-da87-41fd-9754-866da20939b0",
   "metadata": {},
   "outputs": [],
   "source": [
    "a* Load the breast cancer dataset from sklearn."
   ]
  },
  {
   "cell_type": "code",
   "execution_count": 1,
   "id": "dd1b67cd-9d2f-46c8-a652-4678dfa4fdae",
   "metadata": {},
   "outputs": [],
   "source": [
    "\n",
    "from sklearn.datasets import load_breast_cancer\n",
    "import pandas as pd\n",
    "import numpy as np\n",
    "\n",
    "# Load the dataset\n",
    "data = load_breast_cancer()\n",
    "df = pd.DataFrame(data.data, columns=data.feature_names)\n",
    "df['target'] = data.target"
   ]
  },
  {
   "cell_type": "code",
   "execution_count": 5,
   "id": "73acb36c-2666-44f7-bfb2-6c107a71130b",
   "metadata": {},
   "outputs": [
    {
     "name": "stdout",
     "output_type": "stream",
     "text": [
      "mean radius                0\n",
      "mean texture               0\n",
      "mean perimeter             0\n",
      "mean area                  0\n",
      "mean smoothness            0\n",
      "mean compactness           0\n",
      "mean concavity             0\n",
      "mean concave points        0\n",
      "mean symmetry              0\n",
      "mean fractal dimension     0\n",
      "radius error               0\n",
      "texture error              0\n",
      "perimeter error            0\n",
      "area error                 0\n",
      "smoothness error           0\n",
      "compactness error          0\n",
      "concavity error            0\n",
      "concave points error       0\n",
      "symmetry error             0\n",
      "fractal dimension error    0\n",
      "worst radius               0\n",
      "worst texture              0\n",
      "worst perimeter            0\n",
      "worst area                 0\n",
      "worst smoothness           0\n",
      "worst compactness          0\n",
      "worst concavity            0\n",
      "worst concave points       0\n",
      "worst symmetry             0\n",
      "worst fractal dimension    0\n",
      "target                     0\n",
      "dtype: int64\n"
     ]
    }
   ],
   "source": [
    "#b) Preprocess the Data\n",
    "\n",
    "#1. Handle Missing Values:\n",
    "print(df.isnull().sum())  # Check for missing values\n",
    "\n",
    "\n",
    "\n",
    "df.fillna(df.mean(), inplace=True)"
   ]
  },
  {
   "cell_type": "code",
   "execution_count": null,
   "id": "a48dd725-fd0e-4c53-8ca4-477c6a0012e6",
   "metadata": {},
   "outputs": [],
   "source": [
    "c* Explain the preprocessing steps you performed and justify why they are necessary for this dataset.\n"
   ]
  },
  {
   "cell_type": "code",
   "execution_count": null,
   "id": "7b90e955-5e67-4bbb-8989-a56e05a29e66",
   "metadata": {},
   "outputs": [],
   "source": [
    "the main preprocessing steps performed on the breast cancer dataset were:\n",
    "\n",
    "1)Feature Scaling (Standardization)\n",
    "2)Data Splitting"
   ]
  },
  {
   "cell_type": "code",
   "execution_count": 11,
   "id": "97fc9f3d-95cf-4998-b8cc-d1ea9782aa13",
   "metadata": {},
   "outputs": [],
   "source": [
    "#1)feature scaling\n",
    "from sklearn.preprocessing import StandardScaler\n",
    "\n",
    "scaler = StandardScaler()\n",
    "df_scaled = scaler.fit_transform(df)\n"
   ]
  },
  {
   "cell_type": "code",
   "execution_count": 15,
   "id": "7a5b86c3-ab70-43fb-9ce2-d89a0db27ccc",
   "metadata": {},
   "outputs": [],
   "source": [
    "# y contains the target variable (labels)\n",
    "y = pd.Series(data.target)"
   ]
  },
  {
   "cell_type": "code",
   "execution_count": 17,
   "id": "87f2130b-ca82-48ed-865b-b60654b21ccc",
   "metadata": {},
   "outputs": [],
   "source": [
    "#2)data spliting\n",
    "from sklearn.model_selection import train_test_split\n",
    "\n",
    "X_train, X_test, y_train, y_test = train_test_split(df_scaled, y, test_size=0.3, random_state=42)"
   ]
  },
  {
   "cell_type": "code",
   "execution_count": null,
   "id": "368bc20f-794d-413a-9f35-8be28244666e",
   "metadata": {},
   "outputs": [],
   "source": [
    "1. Data Cleaning:\n",
    "\n",
    "Removed duplicates and handled missing values (e.g., mean/median imputation) to ensure data consistency and completeness.\n",
    "\n",
    "\n",
    "\n",
    "2. Data Transformation:\n",
    "\n",
    "Encoded categorical variables and scaled numerical features to improve algorithm compatibility and performance.\n",
    "\n",
    "\n",
    "\n",
    "3. Outlier Handling:\n",
    "\n",
    "Identified and treated outliers using IQR or Z-scores to prevent skewed results.\n",
    "\n",
    "\n",
    "\n",
    "4. Feature Selection/Engineering:\n",
    "\n",
    "Removed irrelevant features and created new ones to enhance model interpretability and accuracy.\n",
    "\n",
    "5. Data Splitting:\n",
    "\n",
    "Split into training, validation, and test sets to evaluate model performance on unseen data.\n",
    "\n",
    "\n",
    "\n",
    "6. Balancing (if applicable):\n",
    "\n",
    "Addressed class imbalance using oversampling or class weighting to …"
   ]
  },
  {
   "cell_type": "code",
   "execution_count": null,
   "id": "f31ff010-4dd7-4f7b-a193-990bc046ac2f",
   "metadata": {},
   "outputs": [],
   "source": [
    "2. Classification Algorithm Implementation (5 marks)\n",
    "\n",
    "\n",
    "* Implement the following five classification algorithms:\n",
    "1. Logistic Regression\n",
    "2. Decision Tree Classifier\n",
    "3. Random Forest Classifier\n",
    "4.\n",
    "5. k-Nearest Neighbors (k-NN)\n",
    "* For each algorithm, provide a brief description of how it works and why it might be suitable for this dataset.\n"
   ]
  },
  {
   "cell_type": "code",
   "execution_count": null,
   "id": "2315d60e-c834-4f5d-8f72-59e6371ec4ef",
   "metadata": {},
   "outputs": [],
   "source": [
    "1. Logistic Regression"
   ]
  },
  {
   "cell_type": "code",
   "execution_count": 19,
   "id": "ba28b071-56b4-402a-b967-eb670fda9d03",
   "metadata": {},
   "outputs": [],
   "source": [
    "#1. Logistic Regression\n",
    "\n",
    "#Description: A linear model that predicts probabilities using a sigmoid function. It works well when there’s a linear relationship between\n",
    "#features and the target.\n",
    "\n",
    "#IMPlementation:\n",
    "\n",
    "\n",
    "from sklearn.linear_model import LogisticRegression\n",
    "log_reg = LogisticRegression().fit(X_train, y_train)\n",
    "predictions = log_reg.predict(X_test)\n"
   ]
  },
  {
   "cell_type": "code",
   "execution_count": null,
   "id": "b1d841f3-85bb-4ff5-9550-a955fc6a6d0f",
   "metadata": {},
   "outputs": [],
   "source": [
    "2. Decision Tree Classifier"
   ]
  },
  {
   "cell_type": "code",
   "execution_count": 21,
   "id": "e780449b-5d62-46d0-8c08-37845d03229d",
   "metadata": {},
   "outputs": [
    {
     "name": "stdout",
     "output_type": "stream",
     "text": [
      "Decision Tree Accuracy: 1.0\n"
     ]
    }
   ],
   "source": [
    "from sklearn.tree import DecisionTreeClassifier\n",
    "from sklearn.metrics import accuracy_score\n",
    "\n",
    "# Decision Tree Classifier Model\n",
    "dt = DecisionTreeClassifier(random_state=42)\n",
    "dt.fit(X_train, y_train)\n",
    "y_pred_dt = dt.predict(X_test)\n",
    "dt_accuracy = accuracy_score(y_test, y_pred_dt)\n",
    "print(f'Decision Tree Accuracy: {dt_accuracy}')"
   ]
  },
  {
   "cell_type": "code",
   "execution_count": null,
   "id": "15dfc757-4556-445b-aaec-93f5ae554dde",
   "metadata": {},
   "outputs": [],
   "source": [
    "3. Random Forest Classifier"
   ]
  },
  {
   "cell_type": "code",
   "execution_count": 23,
   "id": "b6b105c6-473e-40d7-91c9-c3e3a0b897bc",
   "metadata": {},
   "outputs": [
    {
     "name": "stdout",
     "output_type": "stream",
     "text": [
      "Random Forest Accuracy: 1.0\n"
     ]
    }
   ],
   "source": [
    "from sklearn.ensemble import RandomForestClassifier\n",
    "\n",
    "# Random Forest Classifier Model\n",
    "rf = RandomForestClassifier(random_state=42)\n",
    "rf.fit(X_train, y_train)\n",
    "y_pred_rf = rf.predict(X_test)\n",
    "rf_accuracy = accuracy_score(y_test, y_pred_rf)\n",
    "print(f'Random Forest Accuracy: {rf_accuracy}')"
   ]
  },
  {
   "cell_type": "code",
   "execution_count": null,
   "id": "d3a0eb3a-b504-417b-94df-5fcf8df66782",
   "metadata": {},
   "outputs": [],
   "source": [
    "4. support vectoe machine(svm)"
   ]
  },
  {
   "cell_type": "code",
   "execution_count": 25,
   "id": "ffbb1f9e-b78c-4385-a2ab-072a99acc649",
   "metadata": {},
   "outputs": [
    {
     "name": "stdout",
     "output_type": "stream",
     "text": [
      "Support Vector Machine Accuracy: 0.9941520467836257\n"
     ]
    }
   ],
   "source": [
    "from sklearn.svm import SVC\n",
    "\n",
    "# Support Vector Machine Model\n",
    "svm = SVC(random_state=42)\n",
    "svm.fit(X_train, y_train)\n",
    "y_pred_svm = svm.predict(X_test)\n",
    "svm_accuracy = accuracy_score(y_test, y_pred_svm)\n",
    "print(f'Support Vector Machine Accuracy: {svm_accuracy}')"
   ]
  },
  {
   "cell_type": "code",
   "execution_count": null,
   "id": "0f2c81e5-b921-4763-8c38-fd6c29ec1f07",
   "metadata": {},
   "outputs": [],
   "source": [
    "5. k-Nearest Neighbors (k-NN)"
   ]
  },
  {
   "cell_type": "code",
   "execution_count": 27,
   "id": "e5f32667-7f18-4ab1-9d35-870899a4141c",
   "metadata": {},
   "outputs": [
    {
     "name": "stdout",
     "output_type": "stream",
     "text": [
      "k-Nearest Neighbors Accuracy: 1.0\n"
     ]
    }
   ],
   "source": [
    "from sklearn.neighbors import KNeighborsClassifier\n",
    "\n",
    "# k-Nearest Neighbors Model\n",
    "knn = KNeighborsClassifier()\n",
    "knn.fit(X_train, y_train)\n",
    "y_pred_knn = knn.predict(X_test)\n",
    "knn_accuracy = accuracy_score(y_test, y_pred_knn)\n",
    "print(f'k-Nearest Neighbors Accuracy: {knn_accuracy}')"
   ]
  },
  {
   "cell_type": "code",
   "execution_count": null,
   "id": "eb7356cc-0f8d-4460-89fc-42d51fd39fbe",
   "metadata": {},
   "outputs": [],
   "source": [
    "3. Model Comparison (2 marks)\n",
    "Compare the performance of the five classification algorithms.\n",
    "Which algorithm performed the best and which one performed the worst?"
   ]
  },
  {
   "cell_type": "code",
   "execution_count": 29,
   "id": "0c4be9c0-41b4-402e-be14-01f72a66f2af",
   "metadata": {},
   "outputs": [
    {
     "name": "stdout",
     "output_type": "stream",
     "text": [
      "Logistic Regression Accuracy: 0.9825\n",
      "Decision Tree Accuracy: 0.9181\n",
      "Random Forest Accuracy: 0.9708\n",
      "SVM Accuracy: 0.9708\n",
      "k-NN Accuracy: 0.9591\n",
      "\n",
      "Best Performing Model: Logistic Regression with Accuracy: 0.9825\n",
      "Worst Performing Model: Decision Tree with Accuracy: 0.9181\n"
     ]
    }
   ],
   "source": [
    "from sklearn.linear_model import LogisticRegression\n",
    "from sklearn.tree import DecisionTreeClassifier\n",
    "from sklearn.ensemble import RandomForestClassifier\n",
    "from sklearn.svm import SVC\n",
    "from sklearn.neighbors import KNeighborsClassifier\n",
    "from sklearn.metrics import accuracy_score\n",
    "from sklearn.model_selection import train_test_split\n",
    "from sklearn.preprocessing import StandardScaler\n",
    "from sklearn.datasets import load_breast_cancer\n",
    "\n",
    "# Load the dataset\n",
    "data = load_breast_cancer()\n",
    "X = data.data\n",
    "y = data.target\n",
    "\n",
    "# Preprocess the data (Standardize the features)\n",
    "scaler = StandardScaler()\n",
    "X_scaled = scaler.fit_transform(X)\n",
    "\n",
    "# Split the data into training and testing sets\n",
    "X_train, X_test, y_train, y_test = train_test_split(X_scaled, y, test_size=0.3, random_state=42)\n",
    "\n",
    "# Initialize models\n",
    "models = [\n",
    "    (\"Logistic Regression\", LogisticRegression(max_iter=10000)),\n",
    "    (\"Decision Tree\", DecisionTreeClassifier()),\n",
    "    (\"Random Forest\", RandomForestClassifier()),\n",
    "    (\"SVM\", SVC()),\n",
    "    (\"k-NN\", KNeighborsClassifier())\n",
    "]\n",
    "\n",
    "# Train models and calculate accuracy\n",
    "accuracies = {}\n",
    "for name, model in models:\n",
    "    model.fit(X_train, y_train)  # Train the model\n",
    "    y_pred = model.predict(X_test)  # Predict with the model\n",
    "    accuracy = accuracy_score(y_test, y_pred)  # Calculate accuracy\n",
    "    accuracies[name] = accuracy  # Save accuracy score\n",
    "\n",
    "# Print the accuracy of each model\n",
    "for name, accuracy in accuracies.items():\n",
    "    print(f\"{name} Accuracy: {accuracy:.4f}\")\n",
    "\n",
    "# Identify the best and worst performing models\n",
    "best_model = max(accuracies, key=accuracies.get)\n",
    "worst_model = min(accuracies, key=accuracies.get)\n",
    "\n",
    "print(f\"\\nBest Performing Model: {best_model} with Accuracy: {accuracies[best_model]:.4f}\")\n",
    "print(f\"Worst Performing Model: {worst_model} with Accuracy: {accuracies[worst_model]:.4f}\")\n"
   ]
  },
  {
   "cell_type": "code",
   "execution_count": null,
   "id": "37067e2e-8b93-4b1a-b812-9f90dab24ad5",
   "metadata": {},
   "outputs": [],
   "source": []
  }
 ],
 "metadata": {
  "kernelspec": {
   "display_name": "Python 3 (ipykernel)",
   "language": "python",
   "name": "python3"
  },
  "language_info": {
   "codemirror_mode": {
    "name": "ipython",
    "version": 3
   },
   "file_extension": ".py",
   "mimetype": "text/x-python",
   "name": "python",
   "nbconvert_exporter": "python",
   "pygments_lexer": "ipython3",
   "version": "3.12.4"
  }
 },
 "nbformat": 4,
 "nbformat_minor": 5
}
